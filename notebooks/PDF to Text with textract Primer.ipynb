{
 "cells": [
  {
   "cell_type": "code",
   "execution_count": 1,
   "metadata": {
    "collapsed": true
   },
   "outputs": [],
   "source": [
    "import os"
   ]
  },
  {
   "cell_type": "code",
   "execution_count": 2,
   "metadata": {
    "collapsed": true
   },
   "outputs": [],
   "source": [
    "import pickle"
   ]
  },
  {
   "cell_type": "code",
   "execution_count": 25,
   "metadata": {
    "collapsed": true
   },
   "outputs": [],
   "source": [
    "import textract"
   ]
  },
  {
   "cell_type": "code",
   "execution_count": 43,
   "metadata": {
    "collapsed": false
   },
   "outputs": [],
   "source": [
    "import ipyparallel as ipp\n",
    "from ipyparallel import depend, require, dependent"
   ]
  },
  {
   "cell_type": "code",
   "execution_count": null,
   "metadata": {
    "collapsed": true
   },
   "outputs": [],
   "source": [
    "# /home/immersinn/.virtualenvs/cia_lib/bin/ipcluster start --n=8"
   ]
  },
  {
   "cell_type": "code",
   "execution_count": 4,
   "metadata": {
    "collapsed": false
   },
   "outputs": [],
   "source": [
    "fd = os.path.abspath(os.path.join('..'))"
   ]
  },
  {
   "cell_type": "code",
   "execution_count": 22,
   "metadata": {
    "collapsed": false
   },
   "outputs": [],
   "source": [
    "raw_data_path = os.path.join(fd, \"data/raw\")\n",
    "int_data_path = os.path.join(fd, \"data/interim\")\n",
    "pdf_docs_path = os.path.join(raw_data_path, \"presidents-daily-brief-1969-1977_pdfs\")\n",
    "int_docs_path = os.path.join(int_data_path, \"presidents-daily-brief-1969-1977_dats\")"
   ]
  },
  {
   "cell_type": "code",
   "execution_count": 19,
   "metadata": {
    "collapsed": false
   },
   "outputs": [],
   "source": [
    "file_names = [fn for fn in os.listdir(pdf_docs_path) if fn.endswith(\".pdf\")]"
   ]
  },
  {
   "cell_type": "code",
   "execution_count": 28,
   "metadata": {
    "collapsed": false
   },
   "outputs": [
    {
     "data": {
      "text/plain": [
       "2506"
      ]
     },
     "execution_count": 28,
     "metadata": {},
     "output_type": "execute_result"
    }
   ],
   "source": [
    "len(file_names)"
   ]
  },
  {
   "cell_type": "code",
   "execution_count": 82,
   "metadata": {
    "collapsed": false
   },
   "outputs": [
    {
     "name": "stdout",
     "output_type": "stream",
     "text": [
      "<DirectView [0, 1, 2, 3,...]>\n"
     ]
    }
   ],
   "source": [
    "rc = ipp.Client()\n",
    "print(rc[:])\n",
    "lv = rc[:]"
   ]
  },
  {
   "cell_type": "code",
   "execution_count": 88,
   "metadata": {
    "collapsed": false
   },
   "outputs": [],
   "source": [
    "def process_and_save(fn):\n",
    "    text = textract.process(os.path.join(pdf_docs_path, fn), method=\"tesseract\", language=\"eng\")\n",
    "    dn = fn.strip(\".pdf\")\n",
    "    with open(os.path.join(int_docs_path, dn + '.bin'), 'wb') as f1:\n",
    "        pickle.dump(text, f1)\n",
    "    return(1)"
   ]
  },
  {
   "cell_type": "code",
   "execution_count": 90,
   "metadata": {
    "collapsed": false
   },
   "outputs": [],
   "source": [
    "lv.push(dict(raw_data_path = raw_data_path,\n",
    "             int_data_path = int_data_path,\n",
    "             pdf_docs_path = pdf_docs_path,\n",
    "             int_docs_path = int_docs_path,\n",
    "             process_and_save = process_and_save));"
   ]
  },
  {
   "cell_type": "code",
   "execution_count": 91,
   "metadata": {
    "collapsed": false
   },
   "outputs": [
    {
     "name": "stdout",
     "output_type": "stream",
     "text": [
      "importing os on engine(s)\n",
      "importing pickle on engine(s)\n",
      "importing textract on engine(s)\n"
     ]
    }
   ],
   "source": [
    "with lv.sync_imports():\n",
    "    import os\n",
    "    import pickle\n",
    "    import textract"
   ]
  },
  {
   "cell_type": "code",
   "execution_count": 92,
   "metadata": {
    "collapsed": false
   },
   "outputs": [
    {
     "name": "stdout",
     "output_type": "stream",
     "text": [
      "CPU times: user 40.5 s, sys: 2min 55s, total: 3min 35s\n",
      "Wall time: 4h 31min 16s\n"
     ]
    }
   ],
   "source": [
    "%%time\n",
    "\n",
    "results = lv.map_sync(lambda x: process_and_save(x), file_names)"
   ]
  },
  {
   "cell_type": "markdown",
   "metadata": {},
   "source": [
    "### Test Load"
   ]
  },
  {
   "cell_type": "code",
   "execution_count": 98,
   "metadata": {
    "collapsed": false
   },
   "outputs": [],
   "source": [
    "doc_id = \"0005976599\""
   ]
  },
  {
   "cell_type": "code",
   "execution_count": 99,
   "metadata": {
    "collapsed": false
   },
   "outputs": [],
   "source": [
    "with open(os.path.join(int_docs_path, \"DOC_\" + doc_id + '.bin'), 'rb') as f1:\n",
    "    text = f1.read()"
   ]
  },
  {
   "cell_type": "code",
   "execution_count": 100,
   "metadata": {
    "collapsed": false
   },
   "outputs": [
    {
     "data": {
      "text/plain": [
       "b'\\x80\\x03B\\xe6P\\x00\\x00Dec\\xe2\\x80\\x98assmed In Pan - Sanlllled Copy Approved for Release 2016/04/27 : CIA-RDP79TDDBSSADDS7Q00280001-3\\n/ K / \\\\\\n94/\\n9/\\n\\n \\n\\n \\n\\nT/oe sz\\'dmt\\xe2\\x80\\x99y Daily Brief\\n\\n4 February 1969\\n\\n18\\n\\n50x1\\n2\\n\\nDec\\xe2\\x80\\x98assmed In Pal\\xe2\\x80\\x9c \\xc2\\xbb Sanmxed Copy Approved for Release 2018/04/27 V C|A-RDP79TUUQSSADDS7OOZSOOO1-3\\n\\nDeclass\\xe2\\x80\\x98lied in Pan - sanitized Copy Approved for Release 2016/04/27 : CIA-RDP79T00936A006700280001-3 _\\n\\n \\n\\n:2 /7\\n\\n@252\\xe2\\x80\\x9d:\\n\\n \\n\\n   \\n   \\n    \\n  \\n\\n \\n\\nLEBANON\\n\\nEevul\\n\\nDxmascus\\n\\nMediterranean Sea\\n\\n__, /\\namp\\n\\n/Ymmuk n\\n\\n   \\n  \\n \\n  \\n\\n    \\n \\n   \\n   \\n      \\n \\n   \\n\\nISRAEL r\\\\\\n[/3\\nW wssr\\n\"\\xe2\\x80\\x9c. \\xe2\\x80\\x98 \\\\amx \\xc2\\xa7 .n\\n_J,_ Am.\\xe2\\x80\\x9d .~ 732-\\nEr\\nJew am.\\xe2\\x80\\x9c\\nand\\nmu my; / 5\"\\n\\xe2\\x80\\x9c3.534 msm\\n.2\\n\\nJORDAN\\n\\nSINAI\\nPENINSULA\\n\\nqg, ~25-\\n\\nARABIA\\n\\n\\'Shan-n =an\\nShiykh\\n\\nHugh-a: \\\\\\n\\n \\n\\n \\n\\n \\n\\n \\n\\nmu m\\n\\nDeclassmed In Part - sanitized Copy Approved for Release 2016/04/27 V CIA-RDP79T00936A006700250001-3\\n\\n \\n\\nW\\n\\na H,\\xe2\\x80\\x99\\n\\n.. c.r\\xe2\\x80\\x98,.ec\\n\\nDec\\xe2\\x80\\x98assi\\xef\\xac\\x81ed in Pan - sanitized Cnpy Approved (or Release 2016/04/27 : CIA-RDP79T00936A006700280001-3\\n\\nFOR THE PRESIDENT ONLY\\n\\n5 February 1969\\n\\nLATE NOTES FOR THE PRESIDENT\\'S DAILY BRIEF 0F\\nyFEBRUARY 1969\\n\\nI. MAJOR PROBLEMS\\n\\nMIDDLE EAST\\n\\nThere is nothing of significance to reportl\\n\\nEUROPE\\n\\nThere is nothing of significance to report.\\n\\nSOVIET AFFAIRS\\n\\nThere is nothing of significance to rEport.\\n\\nVIETNAM\\n\\nVice President Ky has told Ambassador Lodge that he in-\\ntends to return to Saigon on Saturday, 8 February. His pur-\\npose is to put more pressure on president Thieu to reorgan\\xe2\\x80\\x94\\nize the South Vietnamese go'"
      ]
     },
     "execution_count": 100,
     "metadata": {},
     "output_type": "execute_result"
    }
   ],
   "source": [
    "text[:1500]"
   ]
  },
  {
   "cell_type": "code",
   "execution_count": 101,
   "metadata": {
    "collapsed": false
   },
   "outputs": [
    {
     "data": {
      "text/plain": [
       "1318"
      ]
     },
     "execution_count": 101,
     "metadata": {},
     "output_type": "execute_result"
    }
   ],
   "source": [
    "str(text).lower().find('late notes')"
   ]
  },
  {
   "cell_type": "code",
   "execution_count": 102,
   "metadata": {
    "collapsed": false
   },
   "outputs": [
    {
     "data": {
      "text/plain": [
       "\" February 1969\\\\n\\\\nLATE NOTES FOR THE PRESIDENT\\\\'S DAILY BRIEF 0F\\\\nyFEBRUARY 1969\\\\n\\\\nI. MAJOR PROBLEMS\\\\n\\\\nMIDDLE EAST\\\\n\\\\nThere is nothing of significance to reportl\\\\n\\\\nEUROPE\\\\n\\\\nThere is nothing of sig\""
      ]
     },
     "execution_count": 102,
     "metadata": {},
     "output_type": "execute_result"
    }
   ],
   "source": [
    "str(text)[1300:1500]"
   ]
  },
  {
   "cell_type": "code",
   "execution_count": null,
   "metadata": {
    "collapsed": true
   },
   "outputs": [],
   "source": []
  }
 ],
 "metadata": {
  "kernelspec": {
   "display_name": "cia (P3)",
   "language": "python",
   "name": "cia (p3)"
  },
  "language_info": {
   "codemirror_mode": {
    "name": "ipython",
    "version": 3
   },
   "file_extension": ".py",
   "mimetype": "text/x-python",
   "name": "python",
   "nbconvert_exporter": "python",
   "pygments_lexer": "ipython3",
   "version": "3.5.2"
  }
 },
 "nbformat": 4,
 "nbformat_minor": 2
}
