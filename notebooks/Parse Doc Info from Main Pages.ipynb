{
 "cells": [
  {
   "cell_type": "code",
   "execution_count": 12,
   "metadata": {
    "collapsed": true
   },
   "outputs": [],
   "source": [
    "import os\n",
    "import time\n",
    "import pickle"
   ]
  },
  {
   "cell_type": "code",
   "execution_count": 10,
   "metadata": {
    "collapsed": true
   },
   "outputs": [],
   "source": [
    "import requests\n",
    "from bs4 import BeautifulSoup as bs"
   ]
  },
  {
   "cell_type": "code",
   "execution_count": 11,
   "metadata": {
    "collapsed": true
   },
   "outputs": [],
   "source": [
    "fd = os.path.abspath(os.path.join('..'))"
   ]
  },
  {
   "cell_type": "code",
   "execution_count": 13,
   "metadata": {
    "collapsed": true
   },
   "outputs": [],
   "source": [
    "raw_data_path = os.path.join(fd, \"data/raw\")\n",
    "int_data_path = os.path.join(fd, \"data/interim\")"
   ]
  },
  {
   "cell_type": "markdown",
   "metadata": {},
   "source": [
    "### Main Pages"
   ]
  },
  {
   "cell_type": "code",
   "execution_count": 3,
   "metadata": {
    "collapsed": false
   },
   "outputs": [],
   "source": [
    "urls = [\"https://www.cia.gov/library/readingroom/collection/presidents-daily-brief-1969-1977?page=1\",\n",
    "        \"https://www.cia.gov/library/readingroom/collection/presidents-daily-brief-1969-1977?page=99\",\n",
    "        \"https://www.cia.gov/library/readingroom/collection/presidents-daily-brief-1969-1977?page=126\"]"
   ]
  },
  {
   "cell_type": "code",
   "execution_count": 8,
   "metadata": {
    "collapsed": false
   },
   "outputs": [
    {
     "name": "stdout",
     "output_type": "stream",
     "text": [
      "200\n",
      "200\n",
      "200\n"
     ]
    }
   ],
   "source": [
    "pages = []\n",
    "for url in urls:\n",
    "    page = requests.get(url)\n",
    "    print(page.status_code)\n",
    "    pages.append(page.content)\n",
    "    time.sleep(1)"
   ]
  },
  {
   "cell_type": "code",
   "execution_count": 14,
   "metadata": {
    "collapsed": true
   },
   "outputs": [],
   "source": [
    "with open(os.path.join(fd, int_data_path, \"rrPages.pkl\"), 'wb') as f1:\n",
    "    pickle.dump(pages, f1)"
   ]
  },
  {
   "cell_type": "markdown",
   "metadata": {},
   "source": [
    "### Investigate"
   ]
  },
  {
   "cell_type": "code",
   "execution_count": 19,
   "metadata": {
    "collapsed": false
   },
   "outputs": [],
   "source": [
    "with open(os.path.join(fd, int_data_path, \"rrPages.pkl\"), 'rb') as f1:\n",
    "    pages = pickle.load(f1)"
   ]
  },
  {
   "cell_type": "code",
   "execution_count": 20,
   "metadata": {
    "collapsed": false
   },
   "outputs": [
    {
     "data": {
      "text/plain": [
       "3"
      ]
     },
     "execution_count": 20,
     "metadata": {},
     "output_type": "execute_result"
    }
   ],
   "source": [
    "len(pages)"
   ]
  },
  {
   "cell_type": "code",
   "execution_count": 21,
   "metadata": {
    "collapsed": false
   },
   "outputs": [
    {
     "data": {
      "text/plain": [
       "b'<!DOCTYPE html PUBLIC \"-//W3C//DTD XHTML+RDFa 1.0//EN\"\\n  \"http://www.w3.org/MarkUp/DTD/xhtml-rdfa-1.'"
      ]
     },
     "execution_count": 21,
     "metadata": {},
     "output_type": "execute_result"
    }
   ],
   "source": [
    "pages[0][:100]"
   ]
  },
  {
   "cell_type": "code",
   "execution_count": 22,
   "metadata": {
    "collapsed": true
   },
   "outputs": [],
   "source": [
    "soups = [bs(page, 'html.parser') for page in pages]"
   ]
  },
  {
   "cell_type": "code",
   "execution_count": 23,
   "metadata": {
    "collapsed": true
   },
   "outputs": [],
   "source": [
    "soup = soups[0]"
   ]
  },
  {
   "cell_type": "code",
   "execution_count": 35,
   "metadata": {
    "collapsed": true
   },
   "outputs": [],
   "source": [
    "contents = soup.body.find_all('div', {'class' : \"views-row\"})"
   ]
  },
  {
   "cell_type": "code",
   "execution_count": 36,
   "metadata": {
    "collapsed": false
   },
   "outputs": [
    {
     "data": {
      "text/plain": [
       "20"
      ]
     },
     "execution_count": 36,
     "metadata": {},
     "output_type": "execute_result"
    }
   ],
   "source": [
    "len(contents)"
   ]
  },
  {
   "cell_type": "code",
   "execution_count": 38,
   "metadata": {
    "collapsed": false
   },
   "outputs": [
    {
     "data": {
      "text/plain": [
       "<div class=\"views-row views-row-1 views-row-odd views-row-first\">\n",
       "<div> <p class=\"docType\"><span></span></p> </div>\n",
       "<div class=\"views-field views-field-title\"> <h4 class=\"field-content\"><a href=\"/library/readingroom/document/0005976614\">THE PRESIDENT'S DAILY BRIEF 12 FEBRUARY 1969</a></h4> </div>\n",
       "<div class=\"views-field views-field-field-document-number\"> <span class=\"views-label views-label-field-taxonomy-doc-type\">Document Number: </span> <span class=\"field-content\">0005976614</span> </div>\n",
       "<div class=\"views-field views-field-field-page-count\"> <span class=\"views-label views-label-field-page-count\">Pages: </span> <div class=\"field-content\">23</div> </div>\n",
       "<div class=\"views-field views-field-field-file-1\"> <div class=\"field-content\"><table class=\"sticky-enabled\">\n",
       "<thead><tr><th>Attachment</th><th>Size</th> </tr></thead>\n",
       "<tbody>\n",
       "<tr class=\"odd\"><td><span class=\"file\"><img alt=\"PDF icon\" class=\"file-icon\" src=\"/library/readingroom/modules/file/icons/application-pdf.png\" title=\"application/pdf\"/> <a href=\"https://www.cia.gov/library/readingroom/docs/DOC_0005976614.pdf\" type=\"application/pdf; length=576780\">DOC_0005976614.pdf</a></span></td><td>563.26 KB</td> </tr>\n",
       "</tbody>\n",
       "</table>\n",
       "</div> </div>\n",
       "<div class=\"views-field views-field-edit-node\"> <span class=\"field-content\"></span> </div>\n",
       "<div class=\"views-field views-field-field-files-s3-2\"> <div class=\"field-content\"></div> </div> </div>"
      ]
     },
     "execution_count": 38,
     "metadata": {},
     "output_type": "execute_result"
    }
   ],
   "source": [
    "contents[0]"
   ]
  },
  {
   "cell_type": "code",
   "execution_count": 39,
   "metadata": {
    "collapsed": false
   },
   "outputs": [
    {
     "data": {
      "text/plain": [
       "<div class=\"views-row views-row-2 views-row-even\">\n",
       "<div> <p class=\"docType\"><span></span></p> </div>\n",
       "<div class=\"views-field views-field-title\"> <h4 class=\"field-content\"><a href=\"/library/readingroom/document/0005976616\">THE PRESIDENT'S DAILY BRIEF 13 FEBRUARY 1969</a></h4> </div>\n",
       "<div class=\"views-field views-field-field-document-number\"> <span class=\"views-label views-label-field-taxonomy-doc-type\">Document Number: </span> <span class=\"field-content\">0005976616</span> </div>\n",
       "<div class=\"views-field views-field-field-page-count\"> <span class=\"views-label views-label-field-page-count\">Pages: </span> <div class=\"field-content\">22</div> </div>\n",
       "<div class=\"views-field views-field-field-file-1\"> <div class=\"field-content\"><table class=\"sticky-enabled\">\n",
       "<thead><tr><th>Attachment</th><th>Size</th> </tr></thead>\n",
       "<tbody>\n",
       "<tr class=\"odd\"><td><span class=\"file\"><img alt=\"PDF icon\" class=\"file-icon\" src=\"/library/readingroom/modules/file/icons/application-pdf.png\" title=\"application/pdf\"/> <a href=\"https://www.cia.gov/library/readingroom/docs/DOC_0005976616.pdf\" type=\"application/pdf; length=681127\">DOC_0005976616.pdf</a></span></td><td>665.16 KB</td> </tr>\n",
       "</tbody>\n",
       "</table>\n",
       "</div> </div>\n",
       "<div class=\"views-field views-field-edit-node\"> <span class=\"field-content\"></span> </div>\n",
       "<div class=\"views-field views-field-field-files-s3-2\"> <div class=\"field-content\"></div> </div> </div>"
      ]
     },
     "execution_count": 39,
     "metadata": {},
     "output_type": "execute_result"
    }
   ],
   "source": [
    "contents[1]"
   ]
  },
  {
   "cell_type": "code",
   "execution_count": 56,
   "metadata": {
    "collapsed": true
   },
   "outputs": [],
   "source": [
    "def parse_content_row(content_element_soup):\n",
    "    doc_page_match = ('h4', {'class' : \"field-content\"})\n",
    "    doc_pdf_match =  ('tr', {'class' : \"odd\"})\n",
    "    doc_pages_match = ('div', {'class' : \"field-content\"})\n",
    "    \n",
    "    doc_page_info = content_element_soup.find(doc_page_match[0], doc_page_match[1])\n",
    "    doc_pdf_info = content_element_soup.find(doc_pdf_match[0], doc_pdf_match[1])\n",
    "    doc_pages_info = content_element_soup.find(doc_pages_match[0], doc_pages_match[1])\n",
    "    \n",
    "    title = doc_page_info.text.strip()\n",
    "    doc_page_url = doc_page_info.find('a')['href']\n",
    "    doc_id = doc_page_url.split(\"/\")[-1].strip()\n",
    "    doc_pdf_url = doc_pdf_info.find('a')['href']\n",
    "    pages = doc_pages_info.text.strip()\n",
    "    return({\"doc_id\" : doc_id,\n",
    "            \"title\" :title,\n",
    "            \"info_url\" : doc_page_url, \n",
    "            \"pdf_url\" : doc_pdf_url,\n",
    "            \"n_pages\" : pages})"
   ]
  },
  {
   "cell_type": "code",
   "execution_count": 57,
   "metadata": {
    "collapsed": false
   },
   "outputs": [],
   "source": [
    "info = [parse_content_row(c) for c in contents]"
   ]
  },
  {
   "cell_type": "code",
   "execution_count": 66,
   "metadata": {
    "collapsed": false
   },
   "outputs": [
    {
     "data": {
      "text/plain": [
       "{'doc_id': '0005976634',\n",
       " 'info_url': '/library/readingroom/document/0005976634',\n",
       " 'n_pages': '11',\n",
       " 'pdf_url': 'https://www.cia.gov/library/readingroom/docs/DOC_0005976634.pdf',\n",
       " 'title': \"THE PRESIDENT'S DAILY BRIEF 25 FEBRUARY 1969\"}"
      ]
     },
     "execution_count": 66,
     "metadata": {},
     "output_type": "execute_result"
    }
   ],
   "source": [
    "info[10]"
   ]
  },
  {
   "cell_type": "markdown",
   "metadata": {},
   "source": [
    "### Test Code"
   ]
  },
  {
   "cell_type": "code",
   "execution_count": 59,
   "metadata": {
    "collapsed": true
   },
   "outputs": [],
   "source": [
    "import sys"
   ]
  },
  {
   "cell_type": "code",
   "execution_count": 60,
   "metadata": {
    "collapsed": true
   },
   "outputs": [],
   "source": [
    "sys.path.append(os.path.join(fd, \"src\"))"
   ]
  },
  {
   "cell_type": "code",
   "execution_count": 61,
   "metadata": {
    "collapsed": true
   },
   "outputs": [],
   "source": [
    "import library_page_process"
   ]
  },
  {
   "cell_type": "code",
   "execution_count": 63,
   "metadata": {
    "collapsed": false
   },
   "outputs": [],
   "source": [
    "di = library_page_process.extract_docs_from_page(soups[0])"
   ]
  },
  {
   "cell_type": "code",
   "execution_count": null,
   "metadata": {
    "collapsed": true
   },
   "outputs": [],
   "source": []
  }
 ],
 "metadata": {
  "kernelspec": {
   "display_name": "cialib",
   "language": "python",
   "name": "cialib"
  },
  "language_info": {
   "codemirror_mode": {
    "name": "ipython",
    "version": 3
   },
   "file_extension": ".py",
   "mimetype": "text/x-python",
   "name": "python",
   "nbconvert_exporter": "python",
   "pygments_lexer": "ipython3",
   "version": "3.5.2"
  }
 },
 "nbformat": 4,
 "nbformat_minor": 2
}
