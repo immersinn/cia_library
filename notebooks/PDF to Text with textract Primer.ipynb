{
 "cells": [
  {
   "cell_type": "code",
   "execution_count": 2,
   "metadata": {
    "collapsed": true
   },
   "outputs": [],
   "source": [
    "import os"
   ]
  },
  {
   "cell_type": "code",
   "execution_count": 37,
   "metadata": {
    "collapsed": true
   },
   "outputs": [],
   "source": [
    "import pickle"
   ]
  },
  {
   "cell_type": "code",
   "execution_count": 5,
   "metadata": {
    "collapsed": true
   },
   "outputs": [],
   "source": [
    "import textract"
   ]
  },
  {
   "cell_type": "code",
   "execution_count": 25,
   "metadata": {
    "collapsed": false
   },
   "outputs": [],
   "source": [
    "fd = os.path.abspath(os.path.join('..'))"
   ]
  },
  {
   "cell_type": "code",
   "execution_count": 32,
   "metadata": {
    "collapsed": false
   },
   "outputs": [],
   "source": [
    "raw_data_path = os.path.join(fd, \"data/raw\")\n",
    "int_data_path = os.path.join(fd, \"data/interim\")"
   ]
  },
  {
   "cell_type": "code",
   "execution_count": 34,
   "metadata": {
    "collapsed": false
   },
   "outputs": [],
   "source": [
    "file_names = [fn for fn in os.listdir(raw_data_path) if fn.endswith(\".pdf\")]"
   ]
  },
  {
   "cell_type": "code",
   "execution_count": 35,
   "metadata": {
    "collapsed": false
   },
   "outputs": [
    {
     "data": {
      "text/plain": [
       "['DOC_0005976599',\n",
       " 'DOC_0005976573',\n",
       " 'DOC_0005976581',\n",
       " 'DOC_0005976612',\n",
       " 'DOC_0005976587']"
      ]
     },
     "execution_count": 35,
     "metadata": {},
     "output_type": "execute_result"
    }
   ],
   "source": [
    "doc_names = [fn.strip(\".pdf\") for fn in file_names]\n",
    "doc_names"
   ]
  },
  {
   "cell_type": "code",
   "execution_count": 31,
   "metadata": {
    "collapsed": false
   },
   "outputs": [],
   "source": [
    "texts = [textract.process(os.path.join(data_path, fn), method=\"tesseract\", language=\"eng\") for fn in file_names]"
   ]
  },
  {
   "cell_type": "code",
   "execution_count": 41,
   "metadata": {
    "collapsed": false
   },
   "outputs": [],
   "source": [
    "for dn,txt in zip(doc_names, texts):\n",
    "    with open(os.path.join(int_data_path, dn + '.bin'), 'wb') as f1:\n",
    "        pickle.dump(texts, f1)"
   ]
  },
  {
   "cell_type": "code",
   "execution_count": 45,
   "metadata": {
    "collapsed": false
   },
   "outputs": [
    {
     "data": {
      "text/plain": [
       "'DOC_0005976599'"
      ]
     },
     "execution_count": 45,
     "metadata": {},
     "output_type": "execute_result"
    }
   ],
   "source": [
    "doc_names[0]"
   ]
  },
  {
   "cell_type": "code",
   "execution_count": 46,
   "metadata": {
    "collapsed": false
   },
   "outputs": [
    {
     "data": {
      "text/plain": [
       "b'Dec\\xe2\\x80\\x98assmed In Pan - Sanlllled Copy Approved for Release 2016/04/27 : CIA-RDP79TDDBSSADDS7Q00280001-3\\n/ K / \\\\\\n94/\\n9/\\n\\n \\n\\n \\n\\nT/oe sz\\'dmt\\xe2\\x80\\x99y Daily Brief\\n\\n4 February 1969\\n\\n18\\n\\n50x1\\n2\\n\\nDec\\xe2\\x80\\x98assmed In Pal\\xe2\\x80\\x9c \\xc2\\xbb Sanmxed Copy Approved for Release 2018/04/27 V C|A-RDP79TUUQSSADDS7OOZSOOO1-3\\n\\nDeclass\\xe2\\x80\\x98lied in Pan - sanitized Copy Approved for Release 2016/04/27 : CIA-RDP79T00936A006700280001-3 _\\n\\n \\n\\n:2 /7\\n\\n@252\\xe2\\x80\\x9d:\\n\\n \\n\\n   \\n   \\n    \\n  \\n\\n \\n\\nLEBANON\\n\\nEevul\\n\\nDxmascus\\n\\nMediterranean Sea\\n\\n__, /\\namp\\n\\n/Ymmuk n\\n\\n   \\n  \\n \\n  \\n\\n    \\n \\n   \\n   \\n      \\n \\n   \\n\\nISRAEL r\\\\\\n[/3\\nW wssr\\n\"\\xe2\\x80\\x9c. \\xe2\\x80\\x98 \\\\amx \\xc2\\xa7 .n\\n_J,_ Am.\\xe2\\x80\\x9d .~ 732-\\nEr\\nJew am.\\xe2\\x80\\x9c\\nand\\nmu my; / 5\"\\n\\xe2\\x80\\x9c3.534 msm\\n.2\\n\\nJORDAN\\n\\nSINAI\\nPENINSULA\\n\\nqg, ~25-\\n\\nARABIA\\n\\n\\'Shan-n =an\\nShiykh\\n\\nHugh-a: \\\\\\n\\n \\n\\n \\n\\n \\n\\n \\n\\nmu m\\n\\nDeclassmed In Part - sanitized Copy Approved for Release 2016/04/27 V CIA-RDP79T00936A006700250001-3\\n\\n \\n\\nW\\n\\na H,\\xe2\\x80\\x99\\n\\n.. c.r\\xe2\\x80\\x98,.ec\\n\\nDec\\xe2\\x80\\x98assi\\xef\\xac\\x81ed in Pan - sanitized Cnpy Approved (or Release 2016/04/27 : CIA-RDP79T00936A006700280001-3\\n\\nFOR THE PRESIDENT ONLY\\n\\n5 February 1969\\n\\nLATE NOTES FOR THE PRESIDENT\\'S DAILY BRIEF 0F\\nyFEBRUARY 1969\\n\\nI. MAJOR PROBLEMS\\n\\nMIDDLE EAST\\n\\nThere is nothing of significance to reportl\\n\\nEUROPE\\n\\nThere is nothing of significance to report.\\n\\nSOVIET AFFAIRS\\n\\nThere is nothing of significance to rEport.\\n\\nVIETNAM\\n\\nVice President Ky has told Ambassador Lodge that he in-\\ntends to return to Saigon on Saturday, 8 February. His pur-\\npose is to put more pressure on president Thieu to reorgan\\xe2\\x80\\x94\\nize the South Vietnamese governmen'"
      ]
     },
     "execution_count": 46,
     "metadata": {},
     "output_type": "execute_result"
    }
   ],
   "source": [
    "texts[0][:1500]"
   ]
  },
  {
   "cell_type": "code",
   "execution_count": 48,
   "metadata": {
    "collapsed": false
   },
   "outputs": [
    {
     "data": {
      "text/plain": [
       "1296"
      ]
     },
     "execution_count": 48,
     "metadata": {},
     "output_type": "execute_result"
    }
   ],
   "source": [
    "str(texts[0]).lower().find('late notes')"
   ]
  },
  {
   "cell_type": "code",
   "execution_count": 50,
   "metadata": {
    "collapsed": false
   },
   "outputs": [
    {
     "data": {
      "text/plain": [
       "\"69\\\\n\\\\nLATE NOTES FOR THE PRESIDENT\\\\'S DAILY BRIEF 0F\\\\nyFEBRUARY 1969\\\\n\\\\nI. MAJOR PROBLEMS\\\\n\\\\nMIDDLE EAST\\\\n\\\\nThere is nothing of significance to reportl\\\\n\\\\nEUROPE\\\\n\\\\nThere is nothing of significance to report.\\\\n\""
      ]
     },
     "execution_count": 50,
     "metadata": {},
     "output_type": "execute_result"
    }
   ],
   "source": [
    "str(texts[0])[1290:1500]"
   ]
  },
  {
   "cell_type": "code",
   "execution_count": null,
   "metadata": {
    "collapsed": true
   },
   "outputs": [],
   "source": []
  }
 ],
 "metadata": {
  "kernelspec": {
   "display_name": "cialib",
   "language": "python",
   "name": "cialib"
  },
  "language_info": {
   "codemirror_mode": {
    "name": "ipython",
    "version": 3
   },
   "file_extension": ".py",
   "mimetype": "text/x-python",
   "name": "python",
   "nbconvert_exporter": "python",
   "pygments_lexer": "ipython3",
   "version": "3.5.2"
  }
 },
 "nbformat": 4,
 "nbformat_minor": 2
}
